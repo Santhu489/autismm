{
  "nbformat": 4,
  "nbformat_minor": 0,
  "metadata": {
    "colab": {
      "provenance": [],
      "mount_file_id": "1XFmMKX_rUaiz7B61kKMfVo8i_40j_B9W",
      "authorship_tag": "ABX9TyOrtEQNkzV0us/zTnK7f+qN",
      "include_colab_link": true
    },
    "kernelspec": {
      "name": "python3",
      "display_name": "Python 3"
    },
    "language_info": {
      "name": "python"
    }
  },
  "cells": [
    {
      "cell_type": "markdown",
      "metadata": {
        "id": "view-in-github",
        "colab_type": "text"
      },
      "source": [
        "<a href=\"https://colab.research.google.com/github/Santhu489/autismm/blob/main/autsim_project.ipynb\" target=\"_parent\"><img src=\"https://colab.research.google.com/assets/colab-badge.svg\" alt=\"Open In Colab\"/></a>"
      ]
    },
    {
      "cell_type": "code",
      "execution_count": null,
      "metadata": {
        "colab": {
          "base_uri": "https://localhost:8080/"
        },
        "id": "4QioYh3IaIZy",
        "outputId": "8b21717a-3a0d-4df1-f1a5-37d1d50a86a1"
      },
      "outputs": [
        {
          "metadata": {
            "tags": null
          },
          "name": "stdout",
          "output_type": "stream",
          "text": [
            "\n",
            "Results for XGBoost on resampled data:\n",
            "Accuracy: 0.5521\n",
            "Precision: 1.0000\n",
            "Recall: 0.0897\n",
            "F1 Score: 0.1647\n",
            "Classification Report for XGBoost on resampled data:\n",
            "              precision    recall  f1-score   support\n",
            "\n",
            "           0       0.53      1.00      0.69       161\n",
            "           1       1.00      0.09      0.16       156\n",
            "\n",
            "    accuracy                           0.55       317\n",
            "   macro avg       0.77      0.54      0.43       317\n",
            "weighted avg       0.76      0.55      0.43       317\n",
            "\n",
            "\n",
            "Results for SVM on resampled data:\n",
            "Accuracy: 0.9685\n",
            "Precision: 1.0000\n",
            "Recall: 0.9359\n",
            "F1 Score: 0.9669\n",
            "Classification Report for SVM on resampled data:\n",
            "              precision    recall  f1-score   support\n",
            "\n",
            "           0       0.94      1.00      0.97       161\n",
            "           1       1.00      0.94      0.97       156\n",
            "\n",
            "    accuracy                           0.97       317\n",
            "   macro avg       0.97      0.97      0.97       317\n",
            "weighted avg       0.97      0.97      0.97       317\n",
            "\n",
            "\n",
            "Results for Random Forest on resampled data:\n",
            "Accuracy: 0.9685\n",
            "Precision: 1.0000\n",
            "Recall: 0.9359\n",
            "F1 Score: 0.9669\n",
            "Classification Report for Random Forest on resampled data:\n",
            "              precision    recall  f1-score   support\n",
            "\n",
            "           0       0.94      1.00      0.97       161\n",
            "           1       1.00      0.94      0.97       156\n",
            "\n",
            "    accuracy                           0.97       317\n",
            "   macro avg       0.97      0.97      0.97       317\n",
            "weighted avg       0.97      0.97      0.97       317\n",
            "\n",
            "\n",
            "Autism Syndromic Genes:\n",
            "     gene-symbol  syndromic\n",
            "0           ABAT          0\n",
            "1         ABCA10          0\n",
            "2         ABCA13          0\n",
            "3          ABCA7          0\n",
            "4            ACE          0\n",
            "...          ...        ...\n",
            "1026        TFE3          1\n",
            "1027        H1-4          1\n",
            "1028       PTPN4          1\n",
            "1029       HERC1          1\n",
            "1030       GRIA3          1\n",
            "\n",
            "[1031 rows x 2 columns]\n"
          ]
        }
      ],
      "source": [
        "import pandas as pd\n",
        "from sklearn.model_selection import train_test_split\n",
        "from sklearn.svm import SVC\n",
        "from sklearn.ensemble import RandomForestClassifier\n",
        "from xgboost import XGBClassifier\n",
        "from sklearn.metrics import accuracy_score, precision_score, recall_score, f1_score, classification_report\n",
        "from imblearn.over_sampling import RandomOverSampler\n",
        "\n",
        "# Load the data\n",
        "genes = pd.read_csv(\"drive/MyDrive/Gene/sfari_genes.csv\")\n",
        "\n",
        "# Drop unnecessary columns\n",
        "columns_to_drop = ['status', 'chromosome', 'number-of-reports', 'gene-name', 'ensembl-id', 'gene-score', 'genetic-category']\n",
        "genes = genes.drop(columns=columns_to_drop)\n",
        "\n",
        "# Encode gene symbols as dummy variables\n",
        "genes_encoded = pd.get_dummies(genes, columns=['gene-symbol'])\n",
        "\n",
        "# Features (X) excluding the 'syndromic' column\n",
        "X = genes_encoded.drop(columns='syndromic')\n",
        "\n",
        "# Labels (y)\n",
        "y = genes_encoded['syndromic']\n",
        "\n",
        "# Convert to binary classification (1 for syndromic, 0 for non-syndromic)\n",
        "y_binary = (y == 1).astype(int)\n",
        "\n",
        "# Resample the dataset\n",
        "ros = RandomOverSampler(random_state=42)\n",
        "X_resampled, y_resampled = ros.fit_resample(X, y_binary)\n",
        "\n",
        "# Split the resampled data into training and testing sets\n",
        "X_train, X_test, y_train, y_test = train_test_split(X_resampled, y_resampled, test_size=0.2, random_state=42)\n",
        "\n",
        "# Initialize the classifier\n",
        "classifiers = {\n",
        "    'XGBoost': XGBClassifier(),\n",
        "    'SVM': SVC(),\n",
        "    'Random Forest': RandomForestClassifier()\n",
        "}\n",
        "\n",
        "# Train and evaluate each classifier on the resampled data\n",
        "for clf_name, clf in classifiers.items():\n",
        "    # Train the classifier\n",
        "    clf.fit(X_train, y_train)\n",
        "\n",
        "    # Make predictions\n",
        "    y_pred = clf.predict(X_test)\n",
        "\n",
        "    # Calculate evaluation metrics\n",
        "    accuracy = accuracy_score(y_test, y_pred)\n",
        "    precision = precision_score(y_test, y_pred)\n",
        "    recall = recall_score(y_test, y_pred)\n",
        "    f1 = f1_score(y_test, y_pred)\n",
        "\n",
        "    # Print results\n",
        "    print(f\"\\nResults for {clf_name} on resampled data:\")\n",
        "    print(f\"Accuracy: {accuracy:.4f}\")\n",
        "    print(f\"Precision: {precision:.4f}\")\n",
        "    print(f\"Recall: {recall:.4f}\")\n",
        "    print(f\"F1 Score: {f1:.4f}\")\n",
        "\n",
        "    # Classification Report\n",
        "    report = classification_report(y_test, y_pred)\n",
        "    print(f\"Classification Report for {clf_name} on resampled data:\\n{report}\")\n",
        "\n",
        "# Print autism syndromic genes\n",
        "print(f\"\\nAutism Syndromic Genes:\\n{genes[['gene-symbol', 'syndromic']]}\")\n",
        "\n",
        "# Get user input for a gene symbol\n",
        "gene_symbol = input(\"Enter a gene symbol: \")\n",
        "\n",
        "# Check if the gene symbol exists in the data\n",
        "if gene_symbol in genes['gene-symbol'].values:\n",
        "    # Extract the corresponding row from the dataframe\n",
        "    gene_info = genes[genes['gene-symbol'] == gene_symbol]\n",
        "\n",
        "    # Check if the gene is syndromic or not\n",
        "    if gene_info['syndromic'].values[0] == 1:\n",
        "        print(f\"The gene {gene_symbol} is associated with autism.\")\n",
        "    else:\n",
        "        print(f\"The gene {gene_symbol} is not associated with autism.\")\n",
        "else:\n",
        "    print(\"The gene symbol does not exist in the data.\")"
      ]
    },
    {
      "cell_type": "code",
      "source": [
        "import pickle\n",
        "\n",
        "# Save each trained classifier to a pickle file\n",
        "for clf_name, clf in classifiers.items():\n",
        "    filename = f\"{clf_name}_model.pkl\"\n",
        "    with open(filename, 'wb') as file:\n",
        "        pickle.dump(clf, file)\n",
        "    print(f\"{clf_name} model saved to {filename}\")"
      ],
      "metadata": {
        "colab": {
          "base_uri": "https://localhost:8080/"
        },
        "id": "Mf39ZkpKaZxg",
        "outputId": "a71106be-11aa-4724-fab1-e80a4d81dfe1"
      },
      "execution_count": null,
      "outputs": [
        {
          "output_type": "stream",
          "name": "stdout",
          "text": [
            "XGBoost model saved to XGBoost_model.pkl\n",
            "SVM model saved to SVM_model.pkl\n",
            "Random Forest model saved to Random Forest_model.pkl\n"
          ]
        }
      ]
    },
    {
      "cell_type": "code",
      "source": [],
      "metadata": {
        "id": "xqanWBaKavo1"
      },
      "execution_count": null,
      "outputs": []
    }
  ]
}